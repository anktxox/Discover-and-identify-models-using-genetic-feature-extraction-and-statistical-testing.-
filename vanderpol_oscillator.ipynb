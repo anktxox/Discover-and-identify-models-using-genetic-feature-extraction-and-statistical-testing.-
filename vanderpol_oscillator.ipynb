{
 "cells": [
  {
   "cell_type": "code",
   "execution_count": 21,
   "id": "f28b2252",
   "metadata": {},
   "outputs": [],
   "source": [
    "import numpy as np\n",
    "from scipy.integrate import solve_ivp\n",
    "import random\n",
    "import pandas as pd\n",
    "import matplotlib.pyplot as plt"
   ]
  },
  {
   "cell_type": "code",
   "execution_count": 22,
   "id": "3d7e6d3a",
   "metadata": {},
   "outputs": [],
   "source": [
    "%matplotlib inline\n",
    "from gplearn.genetic import SymbolicRegressor\n",
    "from sklearn.ensemble import RandomForestRegressor\n",
    "from sklearn.tree import DecisionTreeRegressor\n",
    "from sklearn.utils.random import check_random_state\n",
    "from mpl_toolkits.mplot3d import Axes3D\n",
    "from sympy import symbols, Function, functions\n",
    "import matplotlib.pyplot as plt\n",
    "import numpy as np\n",
    "import graphviz"
   ]
  },
  {
   "cell_type": "code",
   "execution_count": 23,
   "id": "78235062",
   "metadata": {},
   "outputs": [],
   "source": [
    "# Define the system function\n",
    "def vanderpol_oscillator(t, y):\n",
    "    x1, x2 = y\n",
    "    \n",
    "    #parameters\n",
    "    u = 2\n",
    "    \n",
    "    #expressions\n",
    "    dx1_dt = x2\n",
    "    dx2_dt = -x1 + u*(1-x1**2)*x2\n",
    "\n",
    "    return dx1_dt,dx2_dt"
   ]
  },
  {
   "cell_type": "code",
   "execution_count": 24,
   "id": "62071a1f",
   "metadata": {},
   "outputs": [
    {
     "name": "stdout",
     "output_type": "stream",
     "text": [
      "       Time        x1        x2\n",
      "0  0.000000  1.000000  0.000000\n",
      "1  0.015015  0.999887 -0.015014\n",
      "2  0.030030  0.999549 -0.030026\n",
      "3  0.045045  0.998986 -0.045032\n",
      "4  0.060060  0.998197 -0.060030\n"
     ]
    }
   ],
   "source": [
    "# Initial conditions and parameters\n",
    "x_0 = [1, 0]\n",
    "T_fin = 15\n",
    "t_span = (0, T_fin)\n",
    "\n",
    "# Time evaluation points\n",
    "t_eval = np.linspace(0, T_fin, 1000)\n",
    "\n",
    "# Solve ODE using solve_ivp\n",
    "sol = solve_ivp(vanderpol_oscillator, t_span, x_0, t_eval=t_eval)\n",
    "\n",
    "# Convert solution to Pandas DataFrame\n",
    "df = pd.DataFrame({\n",
    "    'Time': sol.t,\n",
    "    'x1': sol.y[0],\n",
    "    'x2': sol.y[1]\n",
    "})\n",
    "\n",
    "# Print the first few rows of the solution DataFrame\n",
    "print(df.head())"
   ]
  },
  {
   "cell_type": "code",
   "execution_count": 25,
   "id": "6cb58426",
   "metadata": {},
   "outputs": [],
   "source": [
    "df.set_index(\"Time\", inplace=True)"
   ]
  },
  {
   "cell_type": "code",
   "execution_count": 26,
   "id": "60e584d0",
   "metadata": {},
   "outputs": [
    {
     "data": {
      "text/plain": [
       "[<matplotlib.lines.Line2D at 0x1ee44ceca90>]"
      ]
     },
     "execution_count": 26,
     "metadata": {},
     "output_type": "execute_result"
    },
    {
     "data": {
      "image/png": "[encoded data removed]",
      "text/plain": [
       "<Figure size 640x480 with 1 Axes>"
      ]
     },
     "metadata": {},
     "output_type": "display_data"
    }
   ],
   "source": [
    "plt.plot(df['x1'])"
   ]
  },
  {
   "cell_type": "code",
   "execution_count": 27,
   "id": "1e1bb2d5",
   "metadata": {},
   "outputs": [],
   "source": [
    "df['u'] = 2\n",
    "df['x1^2'] = df['x1']**2\n",
    "df['x2^2'] = df['x2']**2\n",
    "df['x1^2,x2'] = (df['x1']**2)*df['x2']\n",
    "df['x2^2,x1'] = (df['x2']**2)*df['x1']\n",
    "df['dx1_dt'] = df['x2']\n",
    "df['dx2_dt'] = -df['x1'] + 2*(1-df['x1']**2)*df['x2']"
   ]
  },
  {
   "cell_type": "code",
   "execution_count": 28,
   "id": "e5f667e6",
   "metadata": {},
   "outputs": [
    {
     "data": {
      "text/html": [
       "<div>\n",
       "<style scoped>\n",
       "    .dataframe tbody tr th:only-of-type {\n",
       "        vertical-align: middle;\n",
       "    }\n",
       "\n",
       "    .dataframe tbody tr th {\n",
       "        vertical-align: top;\n",
       "    }\n",
       "\n",
       "    .dataframe thead th {\n",
       "        text-align: right;\n",
       "    }\n",
       "</style>\n",
       "<table border=\"1\" class=\"dataframe\">\n",
       "  <thead>\n",
       "    <tr style=\"text-align: right;\">\n",
       "      <th></th>\n",
       "      <th>x1</th>\n",
       "      <th>x2</th>\n",
       "      <th>u</th>\n",
       "      <th>x1^2</th>\n",
       "      <th>x2^2</th>\n",
       "      <th>x1^2,x2</th>\n",
       "      <th>x2^2,x1</th>\n",
       "      <th>dx1_dt</th>\n",
       "      <th>dx2_dt</th>\n",
       "    </tr>\n",
       "    <tr>\n",
       "      <th>Time</th>\n",
       "      <th></th>\n",
       "      <th></th>\n",
       "      <th></th>\n",
       "      <th></th>\n",
       "      <th></th>\n",
       "      <th></th>\n",
       "      <th></th>\n",
       "      <th></th>\n",
       "      <th></th>\n",
       "    </tr>\n",
       "  </thead>\n",
       "  <tbody>\n",
       "    <tr>\n",
       "      <th>0.000000</th>\n",
       "      <td>1.000000</td>\n",
       "      <td>0.000000</td>\n",
       "      <td>2</td>\n",
       "      <td>1.000000</td>\n",
       "      <td>0.000000</td>\n",
       "      <td>0.000000</td>\n",
       "      <td>0.000000</td>\n",
       "      <td>0.000000</td>\n",
       "      <td>-1.000000</td>\n",
       "    </tr>\n",
       "    <tr>\n",
       "      <th>0.015015</th>\n",
       "      <td>0.999887</td>\n",
       "      <td>-0.015014</td>\n",
       "      <td>2</td>\n",
       "      <td>0.999775</td>\n",
       "      <td>0.000225</td>\n",
       "      <td>-0.015011</td>\n",
       "      <td>0.000225</td>\n",
       "      <td>-0.015014</td>\n",
       "      <td>-0.999894</td>\n",
       "    </tr>\n",
       "    <tr>\n",
       "      <th>0.030030</th>\n",
       "      <td>0.999549</td>\n",
       "      <td>-0.030026</td>\n",
       "      <td>2</td>\n",
       "      <td>0.999098</td>\n",
       "      <td>0.000902</td>\n",
       "      <td>-0.029999</td>\n",
       "      <td>0.000901</td>\n",
       "      <td>-0.030026</td>\n",
       "      <td>-0.999603</td>\n",
       "    </tr>\n",
       "    <tr>\n",
       "      <th>0.045045</th>\n",
       "      <td>0.998986</td>\n",
       "      <td>-0.045032</td>\n",
       "      <td>2</td>\n",
       "      <td>0.997972</td>\n",
       "      <td>0.002028</td>\n",
       "      <td>-0.044941</td>\n",
       "      <td>0.002026</td>\n",
       "      <td>-0.045032</td>\n",
       "      <td>-0.999168</td>\n",
       "    </tr>\n",
       "    <tr>\n",
       "      <th>0.060060</th>\n",
       "      <td>0.998197</td>\n",
       "      <td>-0.060030</td>\n",
       "      <td>2</td>\n",
       "      <td>0.996397</td>\n",
       "      <td>0.003604</td>\n",
       "      <td>-0.059814</td>\n",
       "      <td>0.003597</td>\n",
       "      <td>-0.060030</td>\n",
       "      <td>-0.998629</td>\n",
       "    </tr>\n",
       "    <tr>\n",
       "      <th>...</th>\n",
       "      <td>...</td>\n",
       "      <td>...</td>\n",
       "      <td>...</td>\n",
       "      <td>...</td>\n",
       "      <td>...</td>\n",
       "      <td>...</td>\n",
       "      <td>...</td>\n",
       "      <td>...</td>\n",
       "      <td>...</td>\n",
       "    </tr>\n",
       "    <tr>\n",
       "      <th>14.939940</th>\n",
       "      <td>1.492153</td>\n",
       "      <td>-0.501230</td>\n",
       "      <td>2</td>\n",
       "      <td>2.226519</td>\n",
       "      <td>0.251232</td>\n",
       "      <td>-1.115999</td>\n",
       "      <td>0.374876</td>\n",
       "      <td>-0.501230</td>\n",
       "      <td>-0.262615</td>\n",
       "    </tr>\n",
       "    <tr>\n",
       "      <th>14.954955</th>\n",
       "      <td>1.484598</td>\n",
       "      <td>-0.505218</td>\n",
       "      <td>2</td>\n",
       "      <td>2.204031</td>\n",
       "      <td>0.255245</td>\n",
       "      <td>-1.113515</td>\n",
       "      <td>0.378936</td>\n",
       "      <td>-0.505218</td>\n",
       "      <td>-0.268003</td>\n",
       "    </tr>\n",
       "    <tr>\n",
       "      <th>14.969970</th>\n",
       "      <td>1.476982</td>\n",
       "      <td>-0.509287</td>\n",
       "      <td>2</td>\n",
       "      <td>2.181477</td>\n",
       "      <td>0.259373</td>\n",
       "      <td>-1.110997</td>\n",
       "      <td>0.383089</td>\n",
       "      <td>-0.509287</td>\n",
       "      <td>-0.273562</td>\n",
       "    </tr>\n",
       "    <tr>\n",
       "      <th>14.984985</th>\n",
       "      <td>1.469305</td>\n",
       "      <td>-0.513439</td>\n",
       "      <td>2</td>\n",
       "      <td>2.158857</td>\n",
       "      <td>0.263620</td>\n",
       "      <td>-1.108442</td>\n",
       "      <td>0.387338</td>\n",
       "      <td>-0.513439</td>\n",
       "      <td>-0.279300</td>\n",
       "    </tr>\n",
       "    <tr>\n",
       "      <th>15.000000</th>\n",
       "      <td>1.461564</td>\n",
       "      <td>-0.517678</td>\n",
       "      <td>2</td>\n",
       "      <td>2.136169</td>\n",
       "      <td>0.267991</td>\n",
       "      <td>-1.105848</td>\n",
       "      <td>0.391685</td>\n",
       "      <td>-0.517678</td>\n",
       "      <td>-0.285224</td>\n",
       "    </tr>\n",
       "  </tbody>\n",
       "</table>\n",
       "<p>1000 rows × 9 columns</p>\n",
       "</div>"
      ],
      "text/plain": [
       "                 x1        x2  u      x1^2      x2^2   x1^2,x2   x2^2,x1   \n",
       "Time                                                                       \n",
       "0.000000   1.000000  0.000000  2  1.000000  0.000000  0.000000  0.000000  \\\n",
       "0.015015   0.999887 -0.015014  2  0.999775  0.000225 -0.015011  0.000225   \n",
       "0.030030   0.999549 -0.030026  2  0.999098  0.000902 -0.029999  0.000901   \n",
       "0.045045   0.998986 -0.045032  2  0.997972  0.002028 -0.044941  0.002026   \n",
       "0.060060   0.998197 -0.060030  2  0.996397  0.003604 -0.059814  0.003597   \n",
       "...             ...       ... ..       ...       ...       ...       ...   \n",
       "14.939940  1.492153 -0.501230  2  2.226519  0.251232 -1.115999  0.374876   \n",
       "14.954955  1.484598 -0.505218  2  2.204031  0.255245 -1.113515  0.378936   \n",
       "14.969970  1.476982 -0.509287  2  2.181477  0.259373 -1.110997  0.383089   \n",
       "14.984985  1.469305 -0.513439  2  2.158857  0.263620 -1.108442  0.387338   \n",
       "15.000000  1.461564 -0.517678  2  2.136169  0.267991 -1.105848  0.391685   \n",
       "\n",
       "             dx1_dt    dx2_dt  \n",
       "Time                           \n",
       "0.000000   0.000000 -1.000000  \n",
       "0.015015  -0.015014 -0.999894  \n",
       "0.030030  -0.030026 -0.999603  \n",
       "0.045045  -0.045032 -0.999168  \n",
       "0.060060  -0.060030 -0.998629  \n",
       "...             ...       ...  \n",
       "14.939940 -0.501230 -0.262615  \n",
       "14.954955 -0.505218 -0.268003  \n",
       "14.969970 -0.509287 -0.273562  \n",
       "14.984985 -0.513439 -0.279300  \n",
       "15.000000 -0.517678 -0.285224  \n",
       "\n",
       "[1000 rows x 9 columns]"
      ]
     },
     "execution_count": 28,
     "metadata": {},
     "output_type": "execute_result"
    }
   ],
   "source": [
    "df"
   ]
  },
  {
   "cell_type": "code",
   "execution_count": 29,
   "id": "c6d3fef6",
   "metadata": {},
   "outputs": [],
   "source": [
    "X = df.drop(columns = ['dx1_dt','dx2_dt'])\n",
    "y1 = df['dx1_dt']\n",
    "y2 = df['dx2_dt']"
   ]
  },
  {
   "cell_type": "code",
   "execution_count": 30,
   "id": "236ecd98",
   "metadata": {},
   "outputs": [
    {
     "data": {
      "text/html": [
       "<div>\n",
       "<style scoped>\n",
       "    .dataframe tbody tr th:only-of-type {\n",
       "        vertical-align: middle;\n",
       "    }\n",
       "\n",
       "    .dataframe tbody tr th {\n",
       "        vertical-align: top;\n",
       "    }\n",
       "\n",
       "    .dataframe thead th {\n",
       "        text-align: right;\n",
       "    }\n",
       "</style>\n",
       "<table border=\"1\" class=\"dataframe\">\n",
       "  <thead>\n",
       "    <tr style=\"text-align: right;\">\n",
       "      <th></th>\n",
       "      <th>x1</th>\n",
       "      <th>x2</th>\n",
       "      <th>u</th>\n",
       "      <th>x1^2</th>\n",
       "      <th>x2^2</th>\n",
       "      <th>x1^2,x2</th>\n",
       "      <th>x2^2,x1</th>\n",
       "    </tr>\n",
       "    <tr>\n",
       "      <th>Time</th>\n",
       "      <th></th>\n",
       "      <th></th>\n",
       "      <th></th>\n",
       "      <th></th>\n",
       "      <th></th>\n",
       "      <th></th>\n",
       "      <th></th>\n",
       "    </tr>\n",
       "  </thead>\n",
       "  <tbody>\n",
       "    <tr>\n",
       "      <th>0.000000</th>\n",
       "      <td>1.000000</td>\n",
       "      <td>0.000000</td>\n",
       "      <td>2</td>\n",
       "      <td>1.000000</td>\n",
       "      <td>0.000000</td>\n",
       "      <td>0.000000</td>\n",
       "      <td>0.000000</td>\n",
       "    </tr>\n",
       "    <tr>\n",
       "      <th>0.015015</th>\n",
       "      <td>0.999887</td>\n",
       "      <td>-0.015014</td>\n",
       "      <td>2</td>\n",
       "      <td>0.999775</td>\n",
       "      <td>0.000225</td>\n",
       "      <td>-0.015011</td>\n",
       "      <td>0.000225</td>\n",
       "    </tr>\n",
       "    <tr>\n",
       "      <th>0.030030</th>\n",
       "      <td>0.999549</td>\n",
       "      <td>-0.030026</td>\n",
       "      <td>2</td>\n",
       "      <td>0.999098</td>\n",
       "      <td>0.000902</td>\n",
       "      <td>-0.029999</td>\n",
       "      <td>0.000901</td>\n",
       "    </tr>\n",
       "    <tr>\n",
       "      <th>0.045045</th>\n",
       "      <td>0.998986</td>\n",
       "      <td>-0.045032</td>\n",
       "      <td>2</td>\n",
       "      <td>0.997972</td>\n",
       "      <td>0.002028</td>\n",
       "      <td>-0.044941</td>\n",
       "      <td>0.002026</td>\n",
       "    </tr>\n",
       "    <tr>\n",
       "      <th>0.060060</th>\n",
       "      <td>0.998197</td>\n",
       "      <td>-0.060030</td>\n",
       "      <td>2</td>\n",
       "      <td>0.996397</td>\n",
       "      <td>0.003604</td>\n",
       "      <td>-0.059814</td>\n",
       "      <td>0.003597</td>\n",
       "    </tr>\n",
       "    <tr>\n",
       "      <th>...</th>\n",
       "      <td>...</td>\n",
       "      <td>...</td>\n",
       "      <td>...</td>\n",
       "      <td>...</td>\n",
       "      <td>...</td>\n",
       "      <td>...</td>\n",
       "      <td>...</td>\n",
       "    </tr>\n",
       "    <tr>\n",
       "      <th>14.939940</th>\n",
       "      <td>1.492153</td>\n",
       "      <td>-0.501230</td>\n",
       "      <td>2</td>\n",
       "      <td>2.226519</td>\n",
       "      <td>0.251232</td>\n",
       "      <td>-1.115999</td>\n",
       "      <td>0.374876</td>\n",
       "    </tr>\n",
       "    <tr>\n",
       "      <th>14.954955</th>\n",
       "      <td>1.484598</td>\n",
       "      <td>-0.505218</td>\n",
       "      <td>2</td>\n",
       "      <td>2.204031</td>\n",
       "      <td>0.255245</td>\n",
       "      <td>-1.113515</td>\n",
       "      <td>0.378936</td>\n",
       "    </tr>\n",
       "    <tr>\n",
       "      <th>14.969970</th>\n",
       "      <td>1.476982</td>\n",
       "      <td>-0.509287</td>\n",
       "      <td>2</td>\n",
       "      <td>2.181477</td>\n",
       "      <td>0.259373</td>\n",
       "      <td>-1.110997</td>\n",
       "      <td>0.383089</td>\n",
       "    </tr>\n",
       "    <tr>\n",
       "      <th>14.984985</th>\n",
       "      <td>1.469305</td>\n",
       "      <td>-0.513439</td>\n",
       "      <td>2</td>\n",
       "      <td>2.158857</td>\n",
       "      <td>0.263620</td>\n",
       "      <td>-1.108442</td>\n",
       "      <td>0.387338</td>\n",
       "    </tr>\n",
       "    <tr>\n",
       "      <th>15.000000</th>\n",
       "      <td>1.461564</td>\n",
       "      <td>-0.517678</td>\n",
       "      <td>2</td>\n",
       "      <td>2.136169</td>\n",
       "      <td>0.267991</td>\n",
       "      <td>-1.105848</td>\n",
       "      <td>0.391685</td>\n",
       "    </tr>\n",
       "  </tbody>\n",
       "</table>\n",
       "<p>1000 rows × 7 columns</p>\n",
       "</div>"
      ],
      "text/plain": [
       "                 x1        x2  u      x1^2      x2^2   x1^2,x2   x2^2,x1\n",
       "Time                                                                    \n",
       "0.000000   1.000000  0.000000  2  1.000000  0.000000  0.000000  0.000000\n",
       "0.015015   0.999887 -0.015014  2  0.999775  0.000225 -0.015011  0.000225\n",
       "0.030030   0.999549 -0.030026  2  0.999098  0.000902 -0.029999  0.000901\n",
       "0.045045   0.998986 -0.045032  2  0.997972  0.002028 -0.044941  0.002026\n",
       "0.060060   0.998197 -0.060030  2  0.996397  0.003604 -0.059814  0.003597\n",
       "...             ...       ... ..       ...       ...       ...       ...\n",
       "14.939940  1.492153 -0.501230  2  2.226519  0.251232 -1.115999  0.374876\n",
       "14.954955  1.484598 -0.505218  2  2.204031  0.255245 -1.113515  0.378936\n",
       "14.969970  1.476982 -0.509287  2  2.181477  0.259373 -1.110997  0.383089\n",
       "14.984985  1.469305 -0.513439  2  2.158857  0.263620 -1.108442  0.387338\n",
       "15.000000  1.461564 -0.517678  2  2.136169  0.267991 -1.105848  0.391685\n",
       "\n",
       "[1000 rows x 7 columns]"
      ]
     },
     "execution_count": 30,
     "metadata": {},
     "output_type": "execute_result"
    }
   ],
   "source": [
    "X"
   ]
  },
  {
   "cell_type": "code",
   "execution_count": 31,
   "id": "9cbbe007",
   "metadata": {},
   "outputs": [],
   "source": [
    "function_set = ['add','sub']\n",
    "est_gp = SymbolicRegressor(population_size=10000,\n",
    "                           generations=15,function_set = function_set, stopping_criteria=0.01,\n",
    "                           p_crossover=0.6, p_subtree_mutation=0.1,\n",
    "                           p_hoist_mutation=0.2, p_point_mutation=0.1,\n",
    "                           max_samples=0.9, verbose=1,\n",
    "                           parsimony_coefficient=0.01, random_state=0)"
   ]
  },
  {
   "cell_type": "code",
   "execution_count": 32,
   "id": "8b8a6b0c",
   "metadata": {},
   "outputs": [
    {
     "name": "stdout",
     "output_type": "stream",
     "text": [
      "    |   Population Average    |             Best Individual              |\n",
      "---- ------------------------- ------------------------------------------ ----------\n",
      " Gen   Length          Fitness   Length          Fitness      OOB Fitness  Time Left\n",
      "   0    27.50          5.22643        5                0                0      1.77m\n"
     ]
    },
    {
     "data": {
      "text/html": [
       "<style>#sk-container-id-1 {color: black;background-color: white;}#sk-container-id-1 pre{padding: 0;}#sk-container-id-1 div.sk-toggleable {background-color: white;}#sk-container-id-1 label.sk-toggleable__label {cursor: pointer;display: block;width: 100%;margin-bottom: 0;padding: 0.3em;box-sizing: border-box;text-align: center;}#sk-container-id-1 label.sk-toggleable__label-arrow:before {content: \"▸\";float: left;margin-right: 0.25em;color: #696969;}#sk-container-id-1 label.sk-toggleable__label-arrow:hover:before {color: black;}#sk-container-id-1 div.sk-estimator:hover label.sk-toggleable__label-arrow:before {color: black;}#sk-container-id-1 div.sk-toggleable__content {max-height: 0;max-width: 0;overflow: hidden;text-align: left;background-color: #f0f8ff;}#sk-container-id-1 div.sk-toggleable__content pre {margin: 0.2em;color: black;border-radius: 0.25em;background-color: #f0f8ff;}#sk-container-id-1 input.sk-toggleable__control:checked~div.sk-toggleable__content {max-height: 200px;max-width: 100%;overflow: auto;}#sk-container-id-1 input.sk-toggleable__control:checked~label.sk-toggleable__label-arrow:before {content: \"▾\";}#sk-container-id-1 div.sk-estimator input.sk-toggleable__control:checked~label.sk-toggleable__label {background-color: #d4ebff;}#sk-container-id-1 div.sk-label input.sk-toggleable__control:checked~label.sk-toggleable__label {background-color: #d4ebff;}#sk-container-id-1 input.sk-hidden--visually {border: 0;clip: rect(1px 1px 1px 1px);clip: rect(1px, 1px, 1px, 1px);height: 1px;margin: -1px;overflow: hidden;padding: 0;position: absolute;width: 1px;}#sk-container-id-1 div.sk-estimator {font-family: monospace;background-color: #f0f8ff;border: 1px dotted black;border-radius: 0.25em;box-sizing: border-box;margin-bottom: 0.5em;}#sk-container-id-1 div.sk-estimator:hover {background-color: #d4ebff;}#sk-container-id-1 div.sk-parallel-item::after {content: \"\";width: 100%;border-bottom: 1px solid gray;flex-grow: 1;}#sk-container-id-1 div.sk-label:hover label.sk-toggleable__label {background-color: #d4ebff;}#sk-container-id-1 div.sk-serial::before {content: \"\";position: absolute;border-left: 1px solid gray;box-sizing: border-box;top: 0;bottom: 0;left: 50%;z-index: 0;}#sk-container-id-1 div.sk-serial {display: flex;flex-direction: column;align-items: center;background-color: white;padding-right: 0.2em;padding-left: 0.2em;position: relative;}#sk-container-id-1 div.sk-item {position: relative;z-index: 1;}#sk-container-id-1 div.sk-parallel {display: flex;align-items: stretch;justify-content: center;background-color: white;position: relative;}#sk-container-id-1 div.sk-item::before, #sk-container-id-1 div.sk-parallel-item::before {content: \"\";position: absolute;border-left: 1px solid gray;box-sizing: border-box;top: 0;bottom: 0;left: 50%;z-index: -1;}#sk-container-id-1 div.sk-parallel-item {display: flex;flex-direction: column;z-index: 1;position: relative;background-color: white;}#sk-container-id-1 div.sk-parallel-item:first-child::after {align-self: flex-end;width: 50%;}#sk-container-id-1 div.sk-parallel-item:last-child::after {align-self: flex-start;width: 50%;}#sk-container-id-1 div.sk-parallel-item:only-child::after {width: 0;}#sk-container-id-1 div.sk-dashed-wrapped {border: 1px dashed gray;margin: 0 0.4em 0.5em 0.4em;box-sizing: border-box;padding-bottom: 0.4em;background-color: white;}#sk-container-id-1 div.sk-label label {font-family: monospace;font-weight: bold;display: inline-block;line-height: 1.2em;}#sk-container-id-1 div.sk-label-container {text-align: center;}#sk-container-id-1 div.sk-container {/* jupyter's `normalize.less` sets `[hidden] { display: none; }` but bootstrap.min.css set `[hidden] { display: none !important; }` so we also need the `!important` here to be able to override the default hidden behavior on the sphinx rendered scikit-learn.org. See: https://github.com/scikit-learn/scikit-learn/issues/21755 */display: inline-block !important;position: relative;}#sk-container-id-1 div.sk-text-repr-fallback {display: none;}</style><div id=\"sk-container-id-1\" class=\"sk-top-container\"><div class=\"sk-text-repr-fallback\"><pre>sub(X1, sub(X5, X5))</pre><b>In a Jupyter environment, please rerun this cell to show the HTML representation or trust the notebook. <br />On GitHub, the HTML representation is unable to render, please try loading this page with nbviewer.org.</b></div><div class=\"sk-container\" hidden><div class=\"sk-item\"><div class=\"sk-estimator sk-toggleable\"><input class=\"sk-toggleable__control sk-hidden--visually\" id=\"sk-estimator-id-1\" type=\"checkbox\" checked><label for=\"sk-estimator-id-1\" class=\"sk-toggleable__label sk-toggleable__label-arrow\">SymbolicRegressor</label><div class=\"sk-toggleable__content\"><pre>sub(X1, sub(X5, X5))</pre></div></div></div></div></div>"
      ],
      "text/plain": [
       "SymbolicRegressor(function_set=['add', 'sub'], generations=15, max_samples=0.9,\n",
       "                  p_crossover=0.6, p_hoist_mutation=0.2, p_point_mutation=0.1,\n",
       "                  p_subtree_mutation=0.1, parsimony_coefficient=0.01,\n",
       "                  population_size=10000, random_state=0, stopping_criteria=0.01,\n",
       "                  verbose=1)"
      ]
     },
     "execution_count": 32,
     "metadata": {},
     "output_type": "execute_result"
    }
   ],
   "source": [
    "est_gp.fit(X, y1)"
   ]
  },
  {
   "cell_type": "code",
   "execution_count": 33,
   "id": "81b81987",
   "metadata": {},
   "outputs": [],
   "source": [
    "X0 = X['x1']\n",
    "X1 = X['x2']\n",
    "# Compute y_pred uiven structure\n",
    "y_pred = X1"
   ]
  },
  {
   "cell_type": "code",
   "execution_count": 34,
   "id": "ba9fe452",
   "metadata": {},
   "outputs": [
    {
     "data": {
      "image/png": "[encoded data removed]",
      "text/plain": [
       "<Figure size 640x480 with 1 Axes>"
      ]
     },
     "metadata": {},
     "output_type": "display_data"
    }
   ],
   "source": [
    "# Plot both scaled values\n",
    "plt.plot(y_pred, label='Prediction')\n",
    "plt.plot(y1, label='Original')\n",
    "plt.legend()\n",
    "plt.show()"
   ]
  },
  {
   "cell_type": "code",
   "execution_count": 36,
   "id": "2afee0f5",
   "metadata": {},
   "outputs": [],
   "source": [
    "function_set = ['add','sub']\n",
    "y2_gp = SymbolicRegressor(population_size=10000,\n",
    "                           generations=15,function_set = function_set, stopping_criteria=0.01,\n",
    "                           p_crossover=0.6, p_subtree_mutation=0.1,\n",
    "                           p_hoist_mutation=0.2, p_point_mutation=0.1,\n",
    "                           max_samples=0.9, verbose=1,\n",
    "                           parsimony_coefficient=0.01, random_state=0)"
   ]
  },
  {
   "cell_type": "code",
   "execution_count": 37,
   "id": "940ff10f",
   "metadata": {},
   "outputs": [
    {
     "name": "stdout",
     "output_type": "stream",
     "text": [
      "    |   Population Average    |             Best Individual              |\n",
      "---- ------------------------- ------------------------------------------ ----------\n",
      " Gen   Length          Fitness   Length          Fitness      OOB Fitness  Time Left\n",
      "   0    27.50          5.86247        7          1.16202          1.14889      1.82m\n",
      "   1     5.12          2.64203        5          1.02542          1.29772      1.18m\n",
      "   2     4.72          2.18147        9      1.29649e-16      1.24345e-16      1.06m\n"
     ]
    },
    {
     "data": {
      "text/html": [
       "<style>#sk-container-id-2 {color: black;background-color: white;}#sk-container-id-2 pre{padding: 0;}#sk-container-id-2 div.sk-toggleable {background-color: white;}#sk-container-id-2 label.sk-toggleable__label {cursor: pointer;display: block;width: 100%;margin-bottom: 0;padding: 0.3em;box-sizing: border-box;text-align: center;}#sk-container-id-2 label.sk-toggleable__label-arrow:before {content: \"▸\";float: left;margin-right: 0.25em;color: #696969;}#sk-container-id-2 label.sk-toggleable__label-arrow:hover:before {color: black;}#sk-container-id-2 div.sk-estimator:hover label.sk-toggleable__label-arrow:before {color: black;}#sk-container-id-2 div.sk-toggleable__content {max-height: 0;max-width: 0;overflow: hidden;text-align: left;background-color: #f0f8ff;}#sk-container-id-2 div.sk-toggleable__content pre {margin: 0.2em;color: black;border-radius: 0.25em;background-color: #f0f8ff;}#sk-container-id-2 input.sk-toggleable__control:checked~div.sk-toggleable__content {max-height: 200px;max-width: 100%;overflow: auto;}#sk-container-id-2 input.sk-toggleable__control:checked~label.sk-toggleable__label-arrow:before {content: \"▾\";}#sk-container-id-2 div.sk-estimator input.sk-toggleable__control:checked~label.sk-toggleable__label {background-color: #d4ebff;}#sk-container-id-2 div.sk-label input.sk-toggleable__control:checked~label.sk-toggleable__label {background-color: #d4ebff;}#sk-container-id-2 input.sk-hidden--visually {border: 0;clip: rect(1px 1px 1px 1px);clip: rect(1px, 1px, 1px, 1px);height: 1px;margin: -1px;overflow: hidden;padding: 0;position: absolute;width: 1px;}#sk-container-id-2 div.sk-estimator {font-family: monospace;background-color: #f0f8ff;border: 1px dotted black;border-radius: 0.25em;box-sizing: border-box;margin-bottom: 0.5em;}#sk-container-id-2 div.sk-estimator:hover {background-color: #d4ebff;}#sk-container-id-2 div.sk-parallel-item::after {content: \"\";width: 100%;border-bottom: 1px solid gray;flex-grow: 1;}#sk-container-id-2 div.sk-label:hover label.sk-toggleable__label {background-color: #d4ebff;}#sk-container-id-2 div.sk-serial::before {content: \"\";position: absolute;border-left: 1px solid gray;box-sizing: border-box;top: 0;bottom: 0;left: 50%;z-index: 0;}#sk-container-id-2 div.sk-serial {display: flex;flex-direction: column;align-items: center;background-color: white;padding-right: 0.2em;padding-left: 0.2em;position: relative;}#sk-container-id-2 div.sk-item {position: relative;z-index: 1;}#sk-container-id-2 div.sk-parallel {display: flex;align-items: stretch;justify-content: center;background-color: white;position: relative;}#sk-container-id-2 div.sk-item::before, #sk-container-id-2 div.sk-parallel-item::before {content: \"\";position: absolute;border-left: 1px solid gray;box-sizing: border-box;top: 0;bottom: 0;left: 50%;z-index: -1;}#sk-container-id-2 div.sk-parallel-item {display: flex;flex-direction: column;z-index: 1;position: relative;background-color: white;}#sk-container-id-2 div.sk-parallel-item:first-child::after {align-self: flex-end;width: 50%;}#sk-container-id-2 div.sk-parallel-item:last-child::after {align-self: flex-start;width: 50%;}#sk-container-id-2 div.sk-parallel-item:only-child::after {width: 0;}#sk-container-id-2 div.sk-dashed-wrapped {border: 1px dashed gray;margin: 0 0.4em 0.5em 0.4em;box-sizing: border-box;padding-bottom: 0.4em;background-color: white;}#sk-container-id-2 div.sk-label label {font-family: monospace;font-weight: bold;display: inline-block;line-height: 1.2em;}#sk-container-id-2 div.sk-label-container {text-align: center;}#sk-container-id-2 div.sk-container {/* jupyter's `normalize.less` sets `[hidden] { display: none; }` but bootstrap.min.css set `[hidden] { display: none !important; }` so we also need the `!important` here to be able to override the default hidden behavior on the sphinx rendered scikit-learn.org. See: https://github.com/scikit-learn/scikit-learn/issues/21755 */display: inline-block !important;position: relative;}#sk-container-id-2 div.sk-text-repr-fallback {display: none;}</style><div id=\"sk-container-id-2\" class=\"sk-top-container\"><div class=\"sk-text-repr-fallback\"><pre>sub(sub(sub(X1, X5), sub(X5, X1)), X0)</pre><b>In a Jupyter environment, please rerun this cell to show the HTML representation or trust the notebook. <br />On GitHub, the HTML representation is unable to render, please try loading this page with nbviewer.org.</b></div><div class=\"sk-container\" hidden><div class=\"sk-item\"><div class=\"sk-estimator sk-toggleable\"><input class=\"sk-toggleable__control sk-hidden--visually\" id=\"sk-estimator-id-2\" type=\"checkbox\" checked><label for=\"sk-estimator-id-2\" class=\"sk-toggleable__label sk-toggleable__label-arrow\">SymbolicRegressor</label><div class=\"sk-toggleable__content\"><pre>sub(sub(sub(X1, X5), sub(X5, X1)), X0)</pre></div></div></div></div></div>"
      ],
      "text/plain": [
       "SymbolicRegressor(function_set=['add', 'sub'], generations=15, max_samples=0.9,\n",
       "                  p_crossover=0.6, p_hoist_mutation=0.2, p_point_mutation=0.1,\n",
       "                  p_subtree_mutation=0.1, parsimony_coefficient=0.01,\n",
       "                  population_size=10000, random_state=0, stopping_criteria=0.01,\n",
       "                  verbose=1)"
      ]
     },
     "execution_count": 37,
     "metadata": {},
     "output_type": "execute_result"
    }
   ],
   "source": [
    "est_gp.fit(X, y2)"
   ]
  },
  {
   "cell_type": "code",
   "execution_count": 39,
   "id": "df4d631b",
   "metadata": {},
   "outputs": [
    {
     "data": {
      "text/plain": [
       "Index(['x1', 'x2', 'u', 'x1^2', 'x2^2', 'x1^2,x2', 'x2^2,x1'], dtype='object')"
      ]
     },
     "execution_count": 39,
     "metadata": {},
     "output_type": "execute_result"
    }
   ],
   "source": [
    "X.columns"
   ]
  },
  {
   "cell_type": "code",
   "execution_count": 42,
   "id": "b8129861",
   "metadata": {},
   "outputs": [],
   "source": [
    "X0 = X['x1']\n",
    "X1 = X['x2']\n",
    "X2 = X['u']\n",
    "X3 = X['x1^2']\n",
    "X4 = X['x2^2']\n",
    "X5 = X['x1^2,x2']\n",
    "X6 = X['x2^2,x1']\n",
    "# Compute y_pred uiven structure\n",
    "y_pred_2 = (X1 - X5) - (X5 - X1) - X0\n",
    "y_pred_3 = 2*X1 - 2*X5 -X0"
   ]
  },
  {
   "cell_type": "code",
   "execution_count": 43,
   "id": "ef06f7e3",
   "metadata": {},
   "outputs": [
    {
     "data": {
      "image/png": "[encoded data removed]",
      "text/plain": [
       "<Figure size 640x480 with 1 Axes>"
      ]
     },
     "metadata": {},
     "output_type": "display_data"
    }
   ],
   "source": [
    "# Plot both scaled values\n",
    "plt.plot(y_pred_3, label='Prediction')\n",
    "plt.plot(y2, label='Original')\n",
    "plt.legend()\n",
    "plt.show()"
   ]
  },
  {
   "cell_type": "code",
   "execution_count": null,
   "id": "9fb73354",
   "metadata": {},
   "outputs": [],
   "source": []
  }
 ],
 "metadata": {
  "kernelspec": {
   "display_name": "Python 3 (ipykernel)",
   "language": "python",
   "name": "python3"
  },
  "language_info": {
   "codemirror_mode": {
    "name": "ipython",
    "version": 3
   },
   "file_extension": ".py",
   "mimetype": "text/x-python",
   "name": "python",
   "nbconvert_exporter": "python",
   "pygments_lexer": "ipython3",
   "version": "3.10.11"
  }
 },
 "nbformat": 4,
 "nbformat_minor": 5
}
